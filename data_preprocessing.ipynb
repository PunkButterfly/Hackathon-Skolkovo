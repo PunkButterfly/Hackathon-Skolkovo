{
  "metadata": {
    "language_info": {
      "codemirror_mode": {
        "name": "ipython",
        "version": 3
      },
      "file_extension": ".py",
      "mimetype": "text/x-python",
      "name": "python",
      "nbconvert_exporter": "python",
      "pygments_lexer": "ipython3",
      "version": "3.9.0-final"
    },
    "orig_nbformat": 2,
    "kernelspec": {
      "name": "python3",
      "display_name": "Python 3.9.0 64-bit",
      "metadata": {
        "interpreter": {
          "hash": "46b25a7163855ce4118ad0039944c9c51a7ad8d70f6f66a782d5792f5f6962c6"
        }
      }
    },
    "colab": {
      "provenance": [],
      "collapsed_sections": [],
      "toc_visible": true,
      "include_colab_link": true
    }
  },
  "nbformat": 4,
  "nbformat_minor": 0,
  "cells": [
    {
      "cell_type": "markdown",
      "metadata": {
        "id": "view-in-github",
        "colab_type": "text"
      },
      "source": [
        "<a href=\"https://colab.research.google.com/github/IlyaKuprik/skolkovo-hack/blob/main/preprocessing_data.ipynb\" target=\"_parent\"><img src=\"https://colab.research.google.com/assets/colab-badge.svg\" alt=\"Open In Colab\"/></a>"
      ]
    },
    {
      "cell_type": "code",
      "execution_count": 1,
      "metadata": {
        "id": "RqbLwu2IZblF"
      },
      "outputs": [],
      "source": [
        "import numpy as np\n",
        "import pandas as pd"
      ]
    },
    {
      "cell_type": "code",
      "source": [
        "from google.colab import drive\n",
        "drive.mount('/content/drive')"
      ],
      "metadata": {
        "colab": {
          "base_uri": "https://localhost:8080/"
        },
        "id": "QZOoYQQtZ-KN",
        "outputId": "ed6bd7c6-6162-468c-bee1-4d2ce71e1e97"
      },
      "execution_count": 5,
      "outputs": [
        {
          "output_type": "stream",
          "name": "stdout",
          "text": [
            "Mounted at /content/drive\n"
          ]
        }
      ]
    },
    {
      "cell_type": "markdown",
      "source": [
        "# Processing Data"
      ],
      "metadata": {
        "id": "GP6d9cKh63km"
      }
    },
    {
      "cell_type": "markdown",
      "source": [
        "## Загрузка\n"
      ],
      "metadata": {
        "id": "1AjZEdqe7D2v"
      }
    },
    {
      "cell_type": "code",
      "execution_count": 63,
      "metadata": {
        "id": "suoPjAG3ZblH"
      },
      "outputs": [],
      "source": [
        "data_candidates_work_places = pd.read_csv('/content/drive/MyDrive/hack/data/data_candidates_work_places.csv', sep=';',\n",
        "                                names = ['CandidateId', 'Position','FromYear', 'FromMonth', 'ToYear', 'ToMonth'])\n",
        "data_jobs = pd.read_csv('/content/drive/MyDrive/hack/data/data_jobs.csv', sep=';',\n",
        "                                names = ['JobId', 'Status','Name', 'Region', 'Description'])\n",
        "data_candidates = pd.read_csv('/content/drive/MyDrive/hack/data/data_candidates.csv', sep=';',\n",
        "                                names = ['CandidateId', 'Position','Sex', 'Citizenship', 'Age',\n",
        "                                'Salary', 'Langs', 'DriverLicense', 'Subway', 'Skills', 'Employment', 'Shedule',                                           \n",
        "                                 'CandidateRegion', 'DateCreated', 'JobId', 'CandidateStatusId', 'Status'])\n",
        "data_candidates_education = pd.read_csv('/content/drive/MyDrive/hack/data/data_candidates_education.csv', sep=';',\n",
        "                                names = ['CandidateId', 'University', 'Faculty', 'GraduateYear'])"
      ]
    },
    {
      "cell_type": "markdown",
      "source": [
        "## Обработка таблицы"
      ],
      "metadata": {
        "id": "uAmpyIMC7UHn"
      }
    },
    {
      "cell_type": "code",
      "source": [
        "import re\n",
        "\n",
        "#Удаление html разметки в поле Description\n",
        "CLEANR = re.compile('<.*?>|&([a-z0-9]+|#[0-9]{1,6}|#x[0-9a-f]{1,6});|-|/|;|_|•')\n",
        " \n",
        "def cleanhtml(raw_html):\n",
        "    if type(raw_html) == type(''):\n",
        "        return re.sub(CLEANR, '', raw_html)\n",
        "    return raw_html\n",
        " \n",
        "data_jobs.Description = data_jobs.Description.apply(cleanhtml)"
      ],
      "metadata": {
        "id": "6fMNGsu7Y-NR"
      },
      "execution_count": 65,
      "outputs": []
    },
    {
      "cell_type": "code",
      "source": [
        "cols_val = {str(i): 'last' for i in data_candidates.columns}"
      ],
      "metadata": {
        "id": "EqC0TcQRSKVs"
      },
      "execution_count": null,
      "outputs": []
    },
    {
      "cell_type": "code",
      "source": [
        "#Группировка и замена Status последним изменение статуса\n",
        "cols_val = {str(i): 'last' for i in data_candidates.columns}\n",
        "grouped_with_last_status = data_candidates.sort_values(by = 'DateCreated').loc[:,data_candidates.columns]\\\n",
        ".groupby(by = ['CandidateId','JobId'], axis = 0, sort = False, as_index = False).agg( cols_val)"
      ],
      "metadata": {
        "id": "IS1SbTb37bpf"
      },
      "execution_count": 70,
      "outputs": []
    },
    {
      "cell_type": "markdown",
      "source": [
        "### Создание меток "
      ],
      "metadata": {
        "id": "quI945HEuYAu"
      }
    },
    {
      "cell_type": "code",
      "source": [
        "#Инициализация начальных меток\n",
        "target_map = {\"Самоотказ РЦ\": 1, \"Не отвечает\": 0.1, \"Отказ РЦ\": 0, \"Думает РЦ\": 0.3, \"Не пришел\": 0.7, \"Приглашен\": 0.85, \"Отклонен\": 0.5, \"Не пришёл\": 0.8, \n",
        "  \"Назначено собеседование в ресторан\": 0.8, \"Телефонное интервью\": 0.7, \"Пришел\": 0.5, \"Обзвон\": 0.6, \"ОТКАЗ СЦ\": 0.3, \"Отказ кандидата\": 1, \n",
        "  \"Отклик\": 0.9, \"Думает МП\":0.4, \"Расторгнул договор\": 0.15, \"Лендинг\": 0.6, \"Резерв\": 0.5, \"Отказ\": 0.3, 'Вышел на линию': 0.9,\n",
        "  \"Принят на работу\": 0.95, \"Оформлен\": 0.9, \"Неактуально\": 0, \"Отказ компании\": 0, \"Перезаписался\": 0.4, \"Отказался/Нашел работу\": 0.3,\n",
        "  \"Заключил договор\": 0.8, \"Отправлен на СБ\": 0.85, \"Интервью с HR\": 0.85, \"Самоотказ МП\": 0.5, \"Недозвон\": 0.2, \"Отказ по итогам скрининга резюме\": 0,\n",
        "  \"Не прошёл СБ\": 0.5, \"Отказ HR\": 0, \"Резерв РЦ\": 0.2, \"Не пришел (повторно)\": 0.6, \"Интервью\": 0.8, \"Отказ ВВСС (другое)\": 0.2, \"Отказ СБ\": 0.65}"
      ],
      "metadata": {
        "id": "qBNgo7ZbyLk9"
      },
      "execution_count": 73,
      "outputs": []
    },
    {
      "cell_type": "code",
      "source": [
        "targets = grouped_with_last_status['Status'].apply(lambda x: target_map[x] if x in target_map else np.NaN) ## Заполнили NA \n",
        "grouped_with_ids_target = grouped_with_last_status.loc[:, ['CandidateId', 'JobId',]]\n",
        "grouped_with_ids_target['target'] = targets"
      ],
      "metadata": {
        "id": "pXUXQzZ6Z_uK"
      },
      "execution_count": 74,
      "outputs": []
    },
    {
      "cell_type": "code",
      "source": [
        "#Инициализация штрафов\n",
        "\n",
        "number_fields = ['Age', 'Salary']\n",
        "string_fields = ['Position', 'Citizenship', 'Langs',\\\n",
        "                  'Skills', 'Employment', 'Shedule', 'CandidateRegion']\n",
        "fines_vector = [1/9]*9 "
      ],
      "metadata": {
        "id": "eBFqmjMwuf5v"
      },
      "execution_count": 81,
      "outputs": []
    },
    {
      "cell_type": "code",
      "source": [
        "\n",
        "fine_mask = grouped_with_last_status.copy()\n",
        "fine_mask[number_fields] = grouped_with_last_status[number_fields].apply(lambda x: x == 0)\n",
        "fine_mask[string_fields] = grouped_with_last_status[string_fields].apply(lambda x: x.isna())\n",
        "\n",
        "total_fine = fine_mask[number_fields + string_fields].apply(lambda x: 1 - (np.array(x) * np.array(fines_vector)).sum(), axis = 1)\n",
        "total_target = targets*total_fine\n",
        "grouped_with_ids_target['target'] = total_target"
      ],
      "metadata": {
        "id": "sLxgskO5wqj5"
      },
      "execution_count": 82,
      "outputs": []
    },
    {
      "cell_type": "markdown",
      "source": [
        "### Driver license"
      ],
      "metadata": {
        "id": "uomGbiCEDcgi"
      }
    },
    {
      "cell_type": "code",
      "source": [
        "def del_sep(text):\n",
        "    if type(text) == type(''):\n",
        "        return ''.join(text.split(','))\n",
        "    return text\n",
        "\n",
        "data_candidates.DriverLicense = data_candidates.DriverLicense.apply(del_sep)"
      ],
      "metadata": {
        "id": "yelhe6CyDjOH"
      },
      "execution_count": 83,
      "outputs": []
    },
    {
      "cell_type": "markdown",
      "source": [
        "### Skills"
      ],
      "metadata": {
        "id": "Dzovh_oDD7Cb"
      }
    },
    {
      "cell_type": "code",
      "source": [
        "def del_stick(text):\n",
        "    if type(text) == type(''):\n",
        "        return ''.join(text.split('||'))\n",
        "    return text\n",
        "\n",
        "\n",
        "data_candidates.Skills = data_candidates.Skills.apply(del_stick)"
      ],
      "metadata": {
        "id": "-oTFj7A7D9Wh"
      },
      "execution_count": 84,
      "outputs": []
    },
    {
      "cell_type": "markdown",
      "source": [
        "### Обработка текста"
      ],
      "metadata": {
        "id": "y4EqNLNsugIc"
      }
    },
    {
      "cell_type": "code",
      "source": [
        "candidates_work_places_concat = data_candidates_work_places.drop_duplicates(['CandidateId', 'Position'])\n",
        "candidates_work_places_concat.Position = candidates_work_places_concat.Position.add(' ')\n",
        "candidates_work_places_concat = candidates_work_places_concat.groupby('CandidateId', as_index=False).agg(Position_last_work = ('Position' , 'sum'))\n",
        "candidates_work_places_concat"
      ],
      "metadata": {
        "id": "vRtWvh046tKU"
      },
      "execution_count": null,
      "outputs": []
    },
    {
      "cell_type": "code",
      "source": [
        "grouped_table_candidates_features = grouped_with_last_status.drop(columns = ['Status', 'CandidateStatusId'])"
      ],
      "metadata": {
        "id": "tH42HgCkhmmL"
      },
      "execution_count": 91,
      "outputs": []
    },
    {
      "cell_type": "code",
      "source": [
        "merged_candidates_features = grouped_table_candidates_features\\\n",
        "    .merge(candidates_work_places_concat, on='CandidateId', how='left')\\\n",
        "    .merge(data_candidates_education.drop_duplicates('CandidateId'), on='CandidateId', how='left')"
      ],
      "metadata": {
        "id": "_qamaYFuC7JG"
      },
      "execution_count": 97,
      "outputs": []
    },
    {
      "cell_type": "code",
      "source": [
        "#Удаление наблюдений с одинаковыми полями\n",
        "merged_candidates_features = merged_candidates_features.drop_duplicates(['Position', 'Citizenship', 'DriverLicense',\\\n",
        "                        'Employment', 'Shedule', 'CandidateRegion',\\\n",
        "                        'Position_last_work', 'University', 'Faculty' ])"
      ],
      "metadata": {
        "id": "PS7tLF9LC8Xa"
      },
      "execution_count": 99,
      "outputs": []
    },
    {
      "cell_type": "code",
      "source": [
        "\n",
        "merged_candidates_features.index = [merged_candidates_features.CandidateId, merged_candidates_features.JobId]\n",
        "part_candidates_features = merged_candidates_features.drop(columns=['JobId', 'CandidateId', 'Salary', 'Subway',\n",
        "                          'Age', 'GraduateYear', 'DateCreated'])\n",
        "part_candidates_features.Sex = part_candidates_features.Sex\\\n",
        "    .where(~(part_candidates_features.Sex == 2), other='мужчина')\\\n",
        "    .where(~(part_candidates_features.Sex == 1), other='женщина')\\\n",
        "    .where(~(part_candidates_features.Sex == 0), other='неопределен')\n",
        "part_candidates_features = part_candidates_features.fillna('NaN').astype(str).add('. ').sum(axis=1).reset_index()\n",
        "candidates_tokens = part_candidates_features\n",
        "\n",
        "status_jobs = pd.DataFrame([[1, 'открытая'], [2, 'закрытая'], [3, 'приостановленная'], [4, 'отменена'], [5, 'черновик']],\n",
        "                          columns = ['Status', 'name_status'])\n",
        "new_data_jobs = data_jobs\\\n",
        "    .merge(status_jobs, on='Status')\n",
        "new_data_jobs.index = new_data_jobs.JobId\n",
        "jobs_tokens = new_data_jobs\\\n",
        "    .drop(columns=['Status', 'JobId'])\\\n",
        "    .fillna('NaN')\\\n",
        "    .astype(str)\\\n",
        "    .add('. ')\\\n",
        "    .sum(axis=1)\\\n",
        "    .reset_index()\n",
        " \n",
        "\n",
        "job_user_tokens_with_id = candidates_tokens\\\n",
        "    .merge(jobs_tokens, on='JobId')\n",
        " "
      ],
      "metadata": {
        "id": "9qb-8PWUZCwI"
      },
      "execution_count": 108,
      "outputs": []
    },
    {
      "cell_type": "code",
      "source": [
        "merged_descriptions_targets_ids = job_user_tokens_with_id.merge(grouped_with_ids_target, on = ['JobId', 'CandidateId'], how = 'inner')\n",
        "merged_descriptions_targets_ids.columns = [\"CandidateId\", \"JobId\", \"Candidate_descr\", \"Jobs_descr\", \"target\"]\n",
        "#Удаляем пустые поля в target (не размечанное)\n",
        "merged_descriptions_targets_ids = merged_descriptions_targets_ids[~(merged_descriptions_targets_ids.target.isna())]\n",
        "merged_descriptions_targets_ids.drop(columns = ['CandidateId', 'JobId'], inplace = True)\n",
        "merged_descriptions_targets_ids = merged_descriptions_targets_ids.drop_duplicates(['Candidate_descr', 'Jobs_descr'])"
      ],
      "metadata": {
        "id": "XvuZ6F-SUNyX"
      },
      "execution_count": 117,
      "outputs": []
    },
    {
      "cell_type": "code",
      "source": [
        "merged_descriptions_targets_ids.to_csv('preprocess_data.csv')"
      ],
      "metadata": {
        "id": "2z0sLZ2soudt"
      },
      "execution_count": 118,
      "outputs": []
    },
    {
      "cell_type": "markdown",
      "source": [
        "## Загрузка теста\n"
      ],
      "metadata": {
        "id": "EHPBj1_mMBbB"
      }
    },
    {
      "cell_type": "code",
      "source": [
        "test_candidates = pd.read_csv('/content/drive/MyDrive/hack/data/test/test_candidates.csv', sep = ';')"
      ],
      "metadata": {
        "id": "n-UE4TLaMEmT"
      },
      "execution_count": 35,
      "outputs": []
    },
    {
      "cell_type": "code",
      "source": [
        "test_jobs = pd.read_csv('/content/drive/MyDrive/hack/data/test/test_jobs.csv', sep = ';',\\\n",
        "                        names = ['JobId', 'Status','Name', 'Region', 'Description', 'x', 'y','z'])\n",
        "test_jobs.drop(columns = ['x', 'y','z'], inplace = True)"
      ],
      "metadata": {
        "id": "hWNVJjHvMfRm"
      },
      "execution_count": 36,
      "outputs": []
    },
    {
      "cell_type": "code",
      "source": [
        "test_candidates_education = pd.read_csv('/content/drive/MyDrive/hack/data/test/test_candidates_education.csv', sep=';')"
      ],
      "metadata": {
        "id": "_W3-eMA-P7Nd"
      },
      "execution_count": 37,
      "outputs": []
    },
    {
      "cell_type": "code",
      "source": [
        "test_candidates_workplaces = pd.read_csv('/content/drive/MyDrive/hack/data/test/test_candidates_workplaces.csv', sep = ';')"
      ],
      "metadata": {
        "id": "B-xZ1xh35jRR"
      },
      "execution_count": 38,
      "outputs": []
    },
    {
      "cell_type": "markdown",
      "source": [
        "## Обработка test_jobs"
      ],
      "metadata": {
        "id": "WlhrEJY1P8sU"
      }
    },
    {
      "cell_type": "code",
      "source": [
        "import re\n",
        " \n",
        "CLEANR = re.compile('<.*?>|&([a-z0-9]+|#[0-9]{1,6}|#x[0-9a-f]{1,6});|-|/|;|_|•')\n",
        " \n",
        "def cleanhtml(raw_html):\n",
        "    if type(raw_html) == type(''):\n",
        "        return re.sub(CLEANR, '', raw_html)\n",
        "    return raw_html\n",
        " \n",
        "test_jobs.Description = test_jobs.Description.apply(cleanhtml)"
      ],
      "metadata": {
        "id": "gMdwpLxOQAoi"
      },
      "execution_count": 119,
      "outputs": []
    },
    {
      "cell_type": "code",
      "source": [
        "status_jobs = pd.DataFrame([[1, 'открытая'], [2, 'закрытая'], [3, 'приостановленная'], [4, 'отменена'], [5, 'черновик']],\n",
        "                          columns = ['Status', 'name_status'])\n",
        "new_data_jobs = test_jobs\\\n",
        "    .merge(status_jobs, on='Status')\n",
        "new_data_jobs.index = new_data_jobs.JobId\n",
        "job_user_tokens1 = new_data_jobs\\\n",
        "    .drop(columns=['Status', 'JobId'])\\\n",
        "    .fillna('NaN')\\\n",
        "    .astype(str)\\\n",
        "    .add('. ')\\\n",
        "    .sum(axis=1)\\\n",
        "    .reset_index()"
      ],
      "metadata": {
        "id": "vqWpVLPNQdkI"
      },
      "execution_count": 120,
      "outputs": []
    },
    {
      "cell_type": "markdown",
      "source": [
        "## Обработка бывшего места работы"
      ],
      "metadata": {
        "id": "UY1angxC6G9M"
      }
    },
    {
      "cell_type": "code",
      "source": [
        "candidates_work_places_concat = test_candidates_workplaces.drop_duplicates(['CandidateId', 'Position'])\n",
        "candidates_work_places_concat.Position = candidates_work_places_concat.Position.add(' ')\n",
        "candidates_work_places_concat = candidates_work_places_concat.groupby('CandidateId', as_index=False).agg({'Position' : 'sum'})\n",
        "candidates_work_places_concat"
      ],
      "metadata": {
        "id": "eWfFjudO8evM"
      },
      "execution_count": null,
      "outputs": []
    },
    {
      "cell_type": "markdown",
      "source": [
        "## Обработка кандидата"
      ],
      "metadata": {
        "id": "bWgY1nCzRR0q"
      }
    },
    {
      "cell_type": "code",
      "source": [
        "def del_sep(text):\n",
        "    if type(text) == type(''):\n",
        "        return ''.join(text.split(','))\n",
        "    return text\n",
        "test_candidates.DriverLicense = test_candidates.DriverLicense.apply(del_sep)"
      ],
      "metadata": {
        "id": "za2PUrgqRVc2"
      },
      "execution_count": 123,
      "outputs": []
    },
    {
      "cell_type": "code",
      "source": [
        "def del_stick(text):\n",
        "    if type(text) == type(''):\n",
        "        return ''.join(text.split('||'))\n",
        "    return text\n",
        "test_candidates.Skills = test_candidates.Skills.apply(del_stick)"
      ],
      "metadata": {
        "id": "AhzBteqBSNGf"
      },
      "execution_count": 124,
      "outputs": []
    },
    {
      "cell_type": "code",
      "source": [
        "part_test_candidates_features = test_candidates\\\n",
        "    .merge(candidates_work_places_concat, on='CandidateId', how='left')\\\n",
        "    .merge(test_candidates_education.drop_duplicates('CandidateId'), on='CandidateId', how='left')\n",
        "part_test_candidates_features.index = part_test_candidates_features.CandidateId\n",
        "df = part_test_candidates_features.drop(columns=['CandidateId', 'Salary', 'Subway',\n",
        "                          'Age', 'GraduateYear'])\n",
        "df.Sex = df.Sex\\\n",
        "    .where(~(df.Sex == 2), other='мужчина')\\\n",
        "    .where(~(df.Sex == 1), other='женщина')\\\n",
        "    .where(~(df.Sex == 0), other='неопределен')\n",
        "df = df.fillna('NaN').astype(str).add('. ').sum(axis=1).reset_index()\n",
        "\n",
        "job_user_tokens2 = df"
      ],
      "metadata": {
        "id": "VSa1SaVPSZlL"
      },
      "execution_count": 125,
      "outputs": []
    },
    {
      "cell_type": "code",
      "source": [
        "job_user_tokens2 = job_user_tokens2.rename(columns = {0: 'Candidate_descr'})\n",
        "job_user_tokens1 = job_user_tokens1.rename(columns = {0: 'Jobs_descr'})"
      ],
      "metadata": {
        "id": "OkUahWdrV-nt"
      },
      "execution_count": 131,
      "outputs": []
    },
    {
      "cell_type": "code",
      "source": [
        "test_data_merged = job_user_tokens2.merge(job_user_tokens1, how = 'cross')\n",
        "test_data_merged.drop(columns = ['CandidateId', 'JobId'], inplace = True)"
      ],
      "metadata": {
        "id": "1YEPbUsBWnuU"
      },
      "execution_count": 132,
      "outputs": []
    },
    {
      "cell_type": "code",
      "source": [
        "test_data_merged"
      ],
      "metadata": {
        "colab": {
          "base_uri": "https://localhost:8080/",
          "height": 424
        },
        "id": "OnGNBE4WLNg0",
        "outputId": "9fb59658-6ce4-49cc-c121-017f6873ff11"
      },
      "execution_count": 133,
      "outputs": [
        {
          "output_type": "execute_result",
          "data": {
            "text/plain": [
              "                                        Candidate_descr  \\\n",
              "0     специалист отдела парковочного комплекса. мужч...   \n",
              "1     специалист отдела парковочного комплекса. мужч...   \n",
              "2     специалист отдела парковочного комплекса. мужч...   \n",
              "3     специалист отдела парковочного комплекса. мужч...   \n",
              "4     специалист отдела парковочного комплекса. мужч...   \n",
              "...                                                 ...   \n",
              "1995  Менеджер по продажам. мужчина.  Россия. русски...   \n",
              "1996  Менеджер по продажам. мужчина.  Россия. русски...   \n",
              "1997  Менеджер по продажам. мужчина.  Россия. русски...   \n",
              "1998  Менеджер по продажам. мужчина.  Россия. русски...   \n",
              "1999  Менеджер по продажам. мужчина.  Россия. русски...   \n",
              "\n",
              "                                             Jobs_descr  \n",
              "0     Водитель автомобиля большегруза с прицепом . С...  \n",
              "1     водитель на своем авто . Москва. Начался сезон...  \n",
              "2     Водитель на своем авто. Москва. Стаж вождения ...  \n",
              "3     Водитель. Санкт-Петербург. Обязанности:Качеств...  \n",
              "4     водитель на личном авто. Москва. ищем курьера ...  \n",
              "...                                                 ...  \n",
              "1995  Водитель-экспедитор 1/ Водитель. Москва. Обяза...  \n",
              "1996  водитель курьер на авто компании. Москва. води...  \n",
              "1997  Менеджер по продажам. Санкт-Петербург. Обязанн...  \n",
              "1998  Водитель-экспедитор. Москва. ЗАДАЧИ:  Доставка...  \n",
              "1999  Водитель. Москва. Наш клиент, крупный холдинг ...  \n",
              "\n",
              "[2000 rows x 2 columns]"
            ],
            "text/html": [
              "\n",
              "  <div id=\"df-30a70ca8-b5cc-4fea-b484-c78a250f701a\">\n",
              "    <div class=\"colab-df-container\">\n",
              "      <div>\n",
              "<style scoped>\n",
              "    .dataframe tbody tr th:only-of-type {\n",
              "        vertical-align: middle;\n",
              "    }\n",
              "\n",
              "    .dataframe tbody tr th {\n",
              "        vertical-align: top;\n",
              "    }\n",
              "\n",
              "    .dataframe thead th {\n",
              "        text-align: right;\n",
              "    }\n",
              "</style>\n",
              "<table border=\"1\" class=\"dataframe\">\n",
              "  <thead>\n",
              "    <tr style=\"text-align: right;\">\n",
              "      <th></th>\n",
              "      <th>Candidate_descr</th>\n",
              "      <th>Jobs_descr</th>\n",
              "    </tr>\n",
              "  </thead>\n",
              "  <tbody>\n",
              "    <tr>\n",
              "      <th>0</th>\n",
              "      <td>специалист отдела парковочного комплекса. мужч...</td>\n",
              "      <td>Водитель автомобиля большегруза с прицепом . С...</td>\n",
              "    </tr>\n",
              "    <tr>\n",
              "      <th>1</th>\n",
              "      <td>специалист отдела парковочного комплекса. мужч...</td>\n",
              "      <td>водитель на своем авто . Москва. Начался сезон...</td>\n",
              "    </tr>\n",
              "    <tr>\n",
              "      <th>2</th>\n",
              "      <td>специалист отдела парковочного комплекса. мужч...</td>\n",
              "      <td>Водитель на своем авто. Москва. Стаж вождения ...</td>\n",
              "    </tr>\n",
              "    <tr>\n",
              "      <th>3</th>\n",
              "      <td>специалист отдела парковочного комплекса. мужч...</td>\n",
              "      <td>Водитель. Санкт-Петербург. Обязанности:Качеств...</td>\n",
              "    </tr>\n",
              "    <tr>\n",
              "      <th>4</th>\n",
              "      <td>специалист отдела парковочного комплекса. мужч...</td>\n",
              "      <td>водитель на личном авто. Москва. ищем курьера ...</td>\n",
              "    </tr>\n",
              "    <tr>\n",
              "      <th>...</th>\n",
              "      <td>...</td>\n",
              "      <td>...</td>\n",
              "    </tr>\n",
              "    <tr>\n",
              "      <th>1995</th>\n",
              "      <td>Менеджер по продажам. мужчина.  Россия. русски...</td>\n",
              "      <td>Водитель-экспедитор 1/ Водитель. Москва. Обяза...</td>\n",
              "    </tr>\n",
              "    <tr>\n",
              "      <th>1996</th>\n",
              "      <td>Менеджер по продажам. мужчина.  Россия. русски...</td>\n",
              "      <td>водитель курьер на авто компании. Москва. води...</td>\n",
              "    </tr>\n",
              "    <tr>\n",
              "      <th>1997</th>\n",
              "      <td>Менеджер по продажам. мужчина.  Россия. русски...</td>\n",
              "      <td>Менеджер по продажам. Санкт-Петербург. Обязанн...</td>\n",
              "    </tr>\n",
              "    <tr>\n",
              "      <th>1998</th>\n",
              "      <td>Менеджер по продажам. мужчина.  Россия. русски...</td>\n",
              "      <td>Водитель-экспедитор. Москва. ЗАДАЧИ:  Доставка...</td>\n",
              "    </tr>\n",
              "    <tr>\n",
              "      <th>1999</th>\n",
              "      <td>Менеджер по продажам. мужчина.  Россия. русски...</td>\n",
              "      <td>Водитель. Москва. Наш клиент, крупный холдинг ...</td>\n",
              "    </tr>\n",
              "  </tbody>\n",
              "</table>\n",
              "<p>2000 rows × 2 columns</p>\n",
              "</div>\n",
              "      <button class=\"colab-df-convert\" onclick=\"convertToInteractive('df-30a70ca8-b5cc-4fea-b484-c78a250f701a')\"\n",
              "              title=\"Convert this dataframe to an interactive table.\"\n",
              "              style=\"display:none;\">\n",
              "        \n",
              "  <svg xmlns=\"http://www.w3.org/2000/svg\" height=\"24px\"viewBox=\"0 0 24 24\"\n",
              "       width=\"24px\">\n",
              "    <path d=\"M0 0h24v24H0V0z\" fill=\"none\"/>\n",
              "    <path d=\"M18.56 5.44l.94 2.06.94-2.06 2.06-.94-2.06-.94-.94-2.06-.94 2.06-2.06.94zm-11 1L8.5 8.5l.94-2.06 2.06-.94-2.06-.94L8.5 2.5l-.94 2.06-2.06.94zm10 10l.94 2.06.94-2.06 2.06-.94-2.06-.94-.94-2.06-.94 2.06-2.06.94z\"/><path d=\"M17.41 7.96l-1.37-1.37c-.4-.4-.92-.59-1.43-.59-.52 0-1.04.2-1.43.59L10.3 9.45l-7.72 7.72c-.78.78-.78 2.05 0 2.83L4 21.41c.39.39.9.59 1.41.59.51 0 1.02-.2 1.41-.59l7.78-7.78 2.81-2.81c.8-.78.8-2.07 0-2.86zM5.41 20L4 18.59l7.72-7.72 1.47 1.35L5.41 20z\"/>\n",
              "  </svg>\n",
              "      </button>\n",
              "      \n",
              "  <style>\n",
              "    .colab-df-container {\n",
              "      display:flex;\n",
              "      flex-wrap:wrap;\n",
              "      gap: 12px;\n",
              "    }\n",
              "\n",
              "    .colab-df-convert {\n",
              "      background-color: #E8F0FE;\n",
              "      border: none;\n",
              "      border-radius: 50%;\n",
              "      cursor: pointer;\n",
              "      display: none;\n",
              "      fill: #1967D2;\n",
              "      height: 32px;\n",
              "      padding: 0 0 0 0;\n",
              "      width: 32px;\n",
              "    }\n",
              "\n",
              "    .colab-df-convert:hover {\n",
              "      background-color: #E2EBFA;\n",
              "      box-shadow: 0px 1px 2px rgba(60, 64, 67, 0.3), 0px 1px 3px 1px rgba(60, 64, 67, 0.15);\n",
              "      fill: #174EA6;\n",
              "    }\n",
              "\n",
              "    [theme=dark] .colab-df-convert {\n",
              "      background-color: #3B4455;\n",
              "      fill: #D2E3FC;\n",
              "    }\n",
              "\n",
              "    [theme=dark] .colab-df-convert:hover {\n",
              "      background-color: #434B5C;\n",
              "      box-shadow: 0px 1px 3px 1px rgba(0, 0, 0, 0.15);\n",
              "      filter: drop-shadow(0px 1px 2px rgba(0, 0, 0, 0.3));\n",
              "      fill: #FFFFFF;\n",
              "    }\n",
              "  </style>\n",
              "\n",
              "      <script>\n",
              "        const buttonEl =\n",
              "          document.querySelector('#df-30a70ca8-b5cc-4fea-b484-c78a250f701a button.colab-df-convert');\n",
              "        buttonEl.style.display =\n",
              "          google.colab.kernel.accessAllowed ? 'block' : 'none';\n",
              "\n",
              "        async function convertToInteractive(key) {\n",
              "          const element = document.querySelector('#df-30a70ca8-b5cc-4fea-b484-c78a250f701a');\n",
              "          const dataTable =\n",
              "            await google.colab.kernel.invokeFunction('convertToInteractive',\n",
              "                                                     [key], {});\n",
              "          if (!dataTable) return;\n",
              "\n",
              "          const docLinkHtml = 'Like what you see? Visit the ' +\n",
              "            '<a target=\"_blank\" href=https://colab.research.google.com/notebooks/data_table.ipynb>data table notebook</a>'\n",
              "            + ' to learn more about interactive tables.';\n",
              "          element.innerHTML = '';\n",
              "          dataTable['output_type'] = 'display_data';\n",
              "          await google.colab.output.renderOutput(dataTable, element);\n",
              "          const docLink = document.createElement('div');\n",
              "          docLink.innerHTML = docLinkHtml;\n",
              "          element.appendChild(docLink);\n",
              "        }\n",
              "      </script>\n",
              "    </div>\n",
              "  </div>\n",
              "  "
            ]
          },
          "metadata": {},
          "execution_count": 133
        }
      ]
    },
    {
      "cell_type": "code",
      "source": [
        "test_data_merged.to_csv('test_data_merged.csv')"
      ],
      "metadata": {
        "id": "Z9Lfw1LNXl9Y"
      },
      "execution_count": 59,
      "outputs": []
    }
  ]
}