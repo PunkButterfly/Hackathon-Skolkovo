{
  "nbformat": 4,
  "nbformat_minor": 0,
  "metadata": {
    "colab": {
      "provenance": [],
      "collapsed_sections": [
        "FQpJy_tRwMMN",
        "fge9tJMUwP8F",
        "zOqh4z5pwTkV",
        "1qUENAhJwWra",
        "pm8mc90XweMH"
      ]
    },
    "kernelspec": {
      "name": "python3",
      "display_name": "Python 3"
    },
    "language_info": {
      "name": "python"
    },
    "accelerator": "GPU",
    "widgets": {
      "application/vnd.jupyter.widget-state+json": {
        "29b70ad41a0947248551413c74631d73": {
          "model_module": "@jupyter-widgets/controls",
          "model_name": "VBoxModel",
          "model_module_version": "1.5.0",
          "state": {
            "_dom_classes": [],
            "_model_module": "@jupyter-widgets/controls",
            "_model_module_version": "1.5.0",
            "_model_name": "VBoxModel",
            "_view_count": null,
            "_view_module": "@jupyter-widgets/controls",
            "_view_module_version": "1.5.0",
            "_view_name": "VBoxView",
            "box_style": "",
            "children": [
              "IPY_MODEL_6ca7dbf92ef74844b87577dd50f71ad8",
              "IPY_MODEL_825b20d87060486d9c3522dd6e329e5e"
            ],
            "layout": "IPY_MODEL_69ef42be0f1d4e769c8350a84695f91d"
          }
        },
        "6ca7dbf92ef74844b87577dd50f71ad8": {
          "model_module": "@jupyter-widgets/controls",
          "model_name": "LabelModel",
          "model_module_version": "1.5.0",
          "state": {
            "_dom_classes": [],
            "_model_module": "@jupyter-widgets/controls",
            "_model_module_version": "1.5.0",
            "_model_name": "LabelModel",
            "_view_count": null,
            "_view_module": "@jupyter-widgets/controls",
            "_view_module_version": "1.5.0",
            "_view_name": "LabelView",
            "description": "",
            "description_tooltip": null,
            "layout": "IPY_MODEL_0fea48da366b46acafcc4ea31c202200",
            "placeholder": "​",
            "style": "IPY_MODEL_b44346435ea14d01a589eb174725ef89",
            "value": "0.029 MB of 0.029 MB uploaded (0.000 MB deduped)\r"
          }
        },
        "825b20d87060486d9c3522dd6e329e5e": {
          "model_module": "@jupyter-widgets/controls",
          "model_name": "FloatProgressModel",
          "model_module_version": "1.5.0",
          "state": {
            "_dom_classes": [],
            "_model_module": "@jupyter-widgets/controls",
            "_model_module_version": "1.5.0",
            "_model_name": "FloatProgressModel",
            "_view_count": null,
            "_view_module": "@jupyter-widgets/controls",
            "_view_module_version": "1.5.0",
            "_view_name": "ProgressView",
            "bar_style": "",
            "description": "",
            "description_tooltip": null,
            "layout": "IPY_MODEL_dc5464875cc94901874e30b3a6b4a714",
            "max": 1,
            "min": 0,
            "orientation": "horizontal",
            "style": "IPY_MODEL_6af66928fb0b4304a87354ac9a8c4319",
            "value": 1
          }
        },
        "69ef42be0f1d4e769c8350a84695f91d": {
          "model_module": "@jupyter-widgets/base",
          "model_name": "LayoutModel",
          "model_module_version": "1.2.0",
          "state": {
            "_model_module": "@jupyter-widgets/base",
            "_model_module_version": "1.2.0",
            "_model_name": "LayoutModel",
            "_view_count": null,
            "_view_module": "@jupyter-widgets/base",
            "_view_module_version": "1.2.0",
            "_view_name": "LayoutView",
            "align_content": null,
            "align_items": null,
            "align_self": null,
            "border": null,
            "bottom": null,
            "display": null,
            "flex": null,
            "flex_flow": null,
            "grid_area": null,
            "grid_auto_columns": null,
            "grid_auto_flow": null,
            "grid_auto_rows": null,
            "grid_column": null,
            "grid_gap": null,
            "grid_row": null,
            "grid_template_areas": null,
            "grid_template_columns": null,
            "grid_template_rows": null,
            "height": null,
            "justify_content": null,
            "justify_items": null,
            "left": null,
            "margin": null,
            "max_height": null,
            "max_width": null,
            "min_height": null,
            "min_width": null,
            "object_fit": null,
            "object_position": null,
            "order": null,
            "overflow": null,
            "overflow_x": null,
            "overflow_y": null,
            "padding": null,
            "right": null,
            "top": null,
            "visibility": null,
            "width": null
          }
        },
        "0fea48da366b46acafcc4ea31c202200": {
          "model_module": "@jupyter-widgets/base",
          "model_name": "LayoutModel",
          "model_module_version": "1.2.0",
          "state": {
            "_model_module": "@jupyter-widgets/base",
            "_model_module_version": "1.2.0",
            "_model_name": "LayoutModel",
            "_view_count": null,
            "_view_module": "@jupyter-widgets/base",
            "_view_module_version": "1.2.0",
            "_view_name": "LayoutView",
            "align_content": null,
            "align_items": null,
            "align_self": null,
            "border": null,
            "bottom": null,
            "display": null,
            "flex": null,
            "flex_flow": null,
            "grid_area": null,
            "grid_auto_columns": null,
            "grid_auto_flow": null,
            "grid_auto_rows": null,
            "grid_column": null,
            "grid_gap": null,
            "grid_row": null,
            "grid_template_areas": null,
            "grid_template_columns": null,
            "grid_template_rows": null,
            "height": null,
            "justify_content": null,
            "justify_items": null,
            "left": null,
            "margin": null,
            "max_height": null,
            "max_width": null,
            "min_height": null,
            "min_width": null,
            "object_fit": null,
            "object_position": null,
            "order": null,
            "overflow": null,
            "overflow_x": null,
            "overflow_y": null,
            "padding": null,
            "right": null,
            "top": null,
            "visibility": null,
            "width": null
          }
        },
        "b44346435ea14d01a589eb174725ef89": {
          "model_module": "@jupyter-widgets/controls",
          "model_name": "DescriptionStyleModel",
          "model_module_version": "1.5.0",
          "state": {
            "_model_module": "@jupyter-widgets/controls",
            "_model_module_version": "1.5.0",
            "_model_name": "DescriptionStyleModel",
            "_view_count": null,
            "_view_module": "@jupyter-widgets/base",
            "_view_module_version": "1.2.0",
            "_view_name": "StyleView",
            "description_width": ""
          }
        },
        "dc5464875cc94901874e30b3a6b4a714": {
          "model_module": "@jupyter-widgets/base",
          "model_name": "LayoutModel",
          "model_module_version": "1.2.0",
          "state": {
            "_model_module": "@jupyter-widgets/base",
            "_model_module_version": "1.2.0",
            "_model_name": "LayoutModel",
            "_view_count": null,
            "_view_module": "@jupyter-widgets/base",
            "_view_module_version": "1.2.0",
            "_view_name": "LayoutView",
            "align_content": null,
            "align_items": null,
            "align_self": null,
            "border": null,
            "bottom": null,
            "display": null,
            "flex": null,
            "flex_flow": null,
            "grid_area": null,
            "grid_auto_columns": null,
            "grid_auto_flow": null,
            "grid_auto_rows": null,
            "grid_column": null,
            "grid_gap": null,
            "grid_row": null,
            "grid_template_areas": null,
            "grid_template_columns": null,
            "grid_template_rows": null,
            "height": null,
            "justify_content": null,
            "justify_items": null,
            "left": null,
            "margin": null,
            "max_height": null,
            "max_width": null,
            "min_height": null,
            "min_width": null,
            "object_fit": null,
            "object_position": null,
            "order": null,
            "overflow": null,
            "overflow_x": null,
            "overflow_y": null,
            "padding": null,
            "right": null,
            "top": null,
            "visibility": null,
            "width": null
          }
        },
        "6af66928fb0b4304a87354ac9a8c4319": {
          "model_module": "@jupyter-widgets/controls",
          "model_name": "ProgressStyleModel",
          "model_module_version": "1.5.0",
          "state": {
            "_model_module": "@jupyter-widgets/controls",
            "_model_module_version": "1.5.0",
            "_model_name": "ProgressStyleModel",
            "_view_count": null,
            "_view_module": "@jupyter-widgets/base",
            "_view_module_version": "1.2.0",
            "_view_name": "StyleView",
            "bar_color": null,
            "description_width": ""
          }
        },
        "cb4295ab038f45fcbce407ea3348f956": {
          "model_module": "@jupyter-widgets/controls",
          "model_name": "HBoxModel",
          "model_module_version": "1.5.0",
          "state": {
            "_dom_classes": [],
            "_model_module": "@jupyter-widgets/controls",
            "_model_module_version": "1.5.0",
            "_model_name": "HBoxModel",
            "_view_count": null,
            "_view_module": "@jupyter-widgets/controls",
            "_view_module_version": "1.5.0",
            "_view_name": "HBoxView",
            "box_style": "",
            "children": [
              "IPY_MODEL_90cddd06513a42a1b50520060a75edcd",
              "IPY_MODEL_9ab06d38c8604603b8306c15d7d9a901",
              "IPY_MODEL_0b8eba394f8b46ad851190f7a1712195"
            ],
            "layout": "IPY_MODEL_5cc4eee3dc484a3aa217a0cc2639a450"
          }
        },
        "90cddd06513a42a1b50520060a75edcd": {
          "model_module": "@jupyter-widgets/controls",
          "model_name": "HTMLModel",
          "model_module_version": "1.5.0",
          "state": {
            "_dom_classes": [],
            "_model_module": "@jupyter-widgets/controls",
            "_model_module_version": "1.5.0",
            "_model_name": "HTMLModel",
            "_view_count": null,
            "_view_module": "@jupyter-widgets/controls",
            "_view_module_version": "1.5.0",
            "_view_name": "HTMLView",
            "description": "",
            "description_tooltip": null,
            "layout": "IPY_MODEL_b6eb9b92b4774918835e5667f6d3ca8d",
            "placeholder": "​",
            "style": "IPY_MODEL_bb8bc4b7e7aa4d2eb183b14b84df00f5",
            "value": "Training 1000 epoch...Loss:71.71258992773946 MSE:0.07408878600398226,  MAE:0.22198251820497913, R2:0.1645160933920905: 100%"
          }
        },
        "9ab06d38c8604603b8306c15d7d9a901": {
          "model_module": "@jupyter-widgets/controls",
          "model_name": "FloatProgressModel",
          "model_module_version": "1.5.0",
          "state": {
            "_dom_classes": [],
            "_model_module": "@jupyter-widgets/controls",
            "_model_module_version": "1.5.0",
            "_model_name": "FloatProgressModel",
            "_view_count": null,
            "_view_module": "@jupyter-widgets/controls",
            "_view_module_version": "1.5.0",
            "_view_name": "ProgressView",
            "bar_style": "",
            "description": "",
            "description_tooltip": null,
            "layout": "IPY_MODEL_50a3977dbd774e638a8ff862cd7167a4",
            "max": 1000,
            "min": 0,
            "orientation": "horizontal",
            "style": "IPY_MODEL_996c5bb7de7e43b2ac0a9dd4a04ae118",
            "value": 1000
          }
        },
        "0b8eba394f8b46ad851190f7a1712195": {
          "model_module": "@jupyter-widgets/controls",
          "model_name": "HTMLModel",
          "model_module_version": "1.5.0",
          "state": {
            "_dom_classes": [],
            "_model_module": "@jupyter-widgets/controls",
            "_model_module_version": "1.5.0",
            "_model_name": "HTMLModel",
            "_view_count": null,
            "_view_module": "@jupyter-widgets/controls",
            "_view_module_version": "1.5.0",
            "_view_name": "HTMLView",
            "description": "",
            "description_tooltip": null,
            "layout": "IPY_MODEL_c27b6e18f904453d90b4191c69d8ed57",
            "placeholder": "​",
            "style": "IPY_MODEL_ba1d197938bc4a3fa18fe8cf5ec4d912",
            "value": " 1000/1000 [05:46&lt;00:00,  3.54it/s]"
          }
        },
        "5cc4eee3dc484a3aa217a0cc2639a450": {
          "model_module": "@jupyter-widgets/base",
          "model_name": "LayoutModel",
          "model_module_version": "1.2.0",
          "state": {
            "_model_module": "@jupyter-widgets/base",
            "_model_module_version": "1.2.0",
            "_model_name": "LayoutModel",
            "_view_count": null,
            "_view_module": "@jupyter-widgets/base",
            "_view_module_version": "1.2.0",
            "_view_name": "LayoutView",
            "align_content": null,
            "align_items": null,
            "align_self": null,
            "border": null,
            "bottom": null,
            "display": null,
            "flex": null,
            "flex_flow": null,
            "grid_area": null,
            "grid_auto_columns": null,
            "grid_auto_flow": null,
            "grid_auto_rows": null,
            "grid_column": null,
            "grid_gap": null,
            "grid_row": null,
            "grid_template_areas": null,
            "grid_template_columns": null,
            "grid_template_rows": null,
            "height": null,
            "justify_content": null,
            "justify_items": null,
            "left": null,
            "margin": null,
            "max_height": null,
            "max_width": null,
            "min_height": null,
            "min_width": null,
            "object_fit": null,
            "object_position": null,
            "order": null,
            "overflow": null,
            "overflow_x": null,
            "overflow_y": null,
            "padding": null,
            "right": null,
            "top": null,
            "visibility": null,
            "width": null
          }
        },
        "b6eb9b92b4774918835e5667f6d3ca8d": {
          "model_module": "@jupyter-widgets/base",
          "model_name": "LayoutModel",
          "model_module_version": "1.2.0",
          "state": {
            "_model_module": "@jupyter-widgets/base",
            "_model_module_version": "1.2.0",
            "_model_name": "LayoutModel",
            "_view_count": null,
            "_view_module": "@jupyter-widgets/base",
            "_view_module_version": "1.2.0",
            "_view_name": "LayoutView",
            "align_content": null,
            "align_items": null,
            "align_self": null,
            "border": null,
            "bottom": null,
            "display": null,
            "flex": null,
            "flex_flow": null,
            "grid_area": null,
            "grid_auto_columns": null,
            "grid_auto_flow": null,
            "grid_auto_rows": null,
            "grid_column": null,
            "grid_gap": null,
            "grid_row": null,
            "grid_template_areas": null,
            "grid_template_columns": null,
            "grid_template_rows": null,
            "height": null,
            "justify_content": null,
            "justify_items": null,
            "left": null,
            "margin": null,
            "max_height": null,
            "max_width": null,
            "min_height": null,
            "min_width": null,
            "object_fit": null,
            "object_position": null,
            "order": null,
            "overflow": null,
            "overflow_x": null,
            "overflow_y": null,
            "padding": null,
            "right": null,
            "top": null,
            "visibility": null,
            "width": null
          }
        },
        "bb8bc4b7e7aa4d2eb183b14b84df00f5": {
          "model_module": "@jupyter-widgets/controls",
          "model_name": "DescriptionStyleModel",
          "model_module_version": "1.5.0",
          "state": {
            "_model_module": "@jupyter-widgets/controls",
            "_model_module_version": "1.5.0",
            "_model_name": "DescriptionStyleModel",
            "_view_count": null,
            "_view_module": "@jupyter-widgets/base",
            "_view_module_version": "1.2.0",
            "_view_name": "StyleView",
            "description_width": ""
          }
        },
        "50a3977dbd774e638a8ff862cd7167a4": {
          "model_module": "@jupyter-widgets/base",
          "model_name": "LayoutModel",
          "model_module_version": "1.2.0",
          "state": {
            "_model_module": "@jupyter-widgets/base",
            "_model_module_version": "1.2.0",
            "_model_name": "LayoutModel",
            "_view_count": null,
            "_view_module": "@jupyter-widgets/base",
            "_view_module_version": "1.2.0",
            "_view_name": "LayoutView",
            "align_content": null,
            "align_items": null,
            "align_self": null,
            "border": null,
            "bottom": null,
            "display": null,
            "flex": null,
            "flex_flow": null,
            "grid_area": null,
            "grid_auto_columns": null,
            "grid_auto_flow": null,
            "grid_auto_rows": null,
            "grid_column": null,
            "grid_gap": null,
            "grid_row": null,
            "grid_template_areas": null,
            "grid_template_columns": null,
            "grid_template_rows": null,
            "height": null,
            "justify_content": null,
            "justify_items": null,
            "left": null,
            "margin": null,
            "max_height": null,
            "max_width": null,
            "min_height": null,
            "min_width": null,
            "object_fit": null,
            "object_position": null,
            "order": null,
            "overflow": null,
            "overflow_x": null,
            "overflow_y": null,
            "padding": null,
            "right": null,
            "top": null,
            "visibility": null,
            "width": null
          }
        },
        "996c5bb7de7e43b2ac0a9dd4a04ae118": {
          "model_module": "@jupyter-widgets/controls",
          "model_name": "ProgressStyleModel",
          "model_module_version": "1.5.0",
          "state": {
            "_model_module": "@jupyter-widgets/controls",
            "_model_module_version": "1.5.0",
            "_model_name": "ProgressStyleModel",
            "_view_count": null,
            "_view_module": "@jupyter-widgets/base",
            "_view_module_version": "1.2.0",
            "_view_name": "StyleView",
            "bar_color": null,
            "description_width": ""
          }
        },
        "c27b6e18f904453d90b4191c69d8ed57": {
          "model_module": "@jupyter-widgets/base",
          "model_name": "LayoutModel",
          "model_module_version": "1.2.0",
          "state": {
            "_model_module": "@jupyter-widgets/base",
            "_model_module_version": "1.2.0",
            "_model_name": "LayoutModel",
            "_view_count": null,
            "_view_module": "@jupyter-widgets/base",
            "_view_module_version": "1.2.0",
            "_view_name": "LayoutView",
            "align_content": null,
            "align_items": null,
            "align_self": null,
            "border": null,
            "bottom": null,
            "display": null,
            "flex": null,
            "flex_flow": null,
            "grid_area": null,
            "grid_auto_columns": null,
            "grid_auto_flow": null,
            "grid_auto_rows": null,
            "grid_column": null,
            "grid_gap": null,
            "grid_row": null,
            "grid_template_areas": null,
            "grid_template_columns": null,
            "grid_template_rows": null,
            "height": null,
            "justify_content": null,
            "justify_items": null,
            "left": null,
            "margin": null,
            "max_height": null,
            "max_width": null,
            "min_height": null,
            "min_width": null,
            "object_fit": null,
            "object_position": null,
            "order": null,
            "overflow": null,
            "overflow_x": null,
            "overflow_y": null,
            "padding": null,
            "right": null,
            "top": null,
            "visibility": null,
            "width": null
          }
        },
        "ba1d197938bc4a3fa18fe8cf5ec4d912": {
          "model_module": "@jupyter-widgets/controls",
          "model_name": "DescriptionStyleModel",
          "model_module_version": "1.5.0",
          "state": {
            "_model_module": "@jupyter-widgets/controls",
            "_model_module_version": "1.5.0",
            "_model_name": "DescriptionStyleModel",
            "_view_count": null,
            "_view_module": "@jupyter-widgets/base",
            "_view_module_version": "1.2.0",
            "_view_name": "StyleView",
            "description_width": ""
          }
        }
      }
    }
  },
  "cells": [
    {
      "cell_type": "code",
      "execution_count": null,
      "metadata": {
        "id": "mA19804_hm97"
      },
      "outputs": [],
      "source": [
        "%%capture\n",
        "!pip install wandb\n",
        "!pip install transformers"
      ]
    },
    {
      "cell_type": "code",
      "source": [
        "from google.colab import drive\n",
        "drive.mount('/content/drive')"
      ],
      "metadata": {
        "colab": {
          "base_uri": "https://localhost:8080/"
        },
        "id": "LeTP1fcn95cy",
        "outputId": "5097062d-0b16-412e-f272-b9330affdc21"
      },
      "execution_count": null,
      "outputs": [
        {
          "output_type": "stream",
          "name": "stdout",
          "text": [
            "Mounted at /content/drive\n"
          ]
        }
      ]
    },
    {
      "cell_type": "code",
      "source": [
        "%%capture\n",
        "import numpy as np\n",
        "import pandas as pd\n",
        "\n",
        "from transformers import AutoTokenizer, AutoModel\n",
        "from sklearn.model_selection import train_test_split\n",
        "from torch.utils.data import TensorDataset, DataLoader\n",
        "import torch.nn.functional as F\n",
        "import torch\n",
        "\n",
        "cat_features_num = 13 # num of categorical encoded features\n",
        "input_dim = 312*2 + cat_features_num\n",
        "output_dim = 1       \n",
        "learningRate = 7e-4\n",
        "epochs = 1000\n",
        "batch_size = 1024\n",
        "\n",
        "\n",
        "tokenizer = AutoTokenizer.from_pretrained(\"cointegrated/rubert-tiny\")\n",
        "model = AutoModel.from_pretrained(\"cointegrated/rubert-tiny\")\n",
        "model.cuda()  # uncomment it if you have a GPU"
      ],
      "metadata": {
        "id": "3p9NilP1iPyE"
      },
      "execution_count": 119,
      "outputs": []
    },
    {
      "cell_type": "markdown",
      "source": [
        "### Bert Embeder"
      ],
      "metadata": {
        "id": "iNHZoI1Jvj3i"
      }
    },
    {
      "cell_type": "markdown",
      "source": [
        "В качестве ембедера текстовых фич мы используем ruBert-Tiny."
      ],
      "metadata": {
        "id": "l8r5TJ8VzmNl"
      }
    },
    {
      "cell_type": "code",
      "source": [
        "def embed_bert_cls(text):\n",
        "    \"\"\"\n",
        "        In:\n",
        "            text: Text data for embedding\n",
        "        Out:\n",
        "            312-dim vector of floats\n",
        "        \"\"\"\n",
        "    t = tokenizer(text, padding=True, truncation=True, return_tensors='pt')\n",
        "    with torch.no_grad():\n",
        "        model_output = model(**{k: v.to(model.device) for k, v in t.items()})\n",
        "    embeddings = model_output.last_hidden_state[:, 0, :]\n",
        "    embeddings = torch.nn.functional.normalize(embeddings)\n",
        "    return embeddings[0].cpu().numpy()\n"
      ],
      "metadata": {
        "id": "m6m0_1TgoLKG"
      },
      "execution_count": 104,
      "outputs": []
    },
    {
      "cell_type": "markdown",
      "source": [
        "### Head of Embeeder - fully connected layers"
      ],
      "metadata": {
        "id": "n2v1_Qk-vosH"
      }
    },
    {
      "cell_type": "code",
      "source": [
        "class FullyNet(torch.nn.Module):\n",
        "    def __init__(self, input_dim, out_dim=1):\n",
        "        super(FullyNet, self).__init__()\n",
        "        self.fc_1 = torch.nn.Linear(input_dim, 384)\n",
        "        self.fc_2 = torch.nn.Linear(384, 256)\n",
        "        self.fc_3 = torch.nn.Linear(256, 128)\n",
        "        self.fc_4 = torch.nn.Linear(128, 64)\n",
        "        self.fc_5 = torch.nn.Linear(64, 8)\n",
        "        self.fc_6 = torch.nn.Linear(8, out_dim)\n",
        "\n",
        "\n",
        "    def forward(self, x):\n",
        "        x = self.fc_1(F.normalize(x))\n",
        "        x = self.fc_2(F.normalize(x))\n",
        "        x = self.fc_3(F.normalize(x))\n",
        "        x = self.fc_4(F.normalize(x))\n",
        "        x = self.fc_5(F.normalize(x))\n",
        "        out = self.fc_6(F.normalize(x))\n",
        "        return out"
      ],
      "metadata": {
        "id": "y8kkTaK7DeiE"
      },
      "execution_count": 105,
      "outputs": []
    },
    {
      "cell_type": "markdown",
      "source": [
        "### Load Data"
      ],
      "metadata": {
        "id": "NVcF-KLNwAST"
      }
    },
    {
      "cell_type": "code",
      "source": [
        "data = pd.read_csv('/content/drive/MyDrive/skolkovo-hack2022/preprocess_data-5.csv')"
      ],
      "metadata": {
        "id": "xjys_Blo9jBh"
      },
      "execution_count": null,
      "outputs": []
    },
    {
      "cell_type": "code",
      "source": [
        "x_candidates = data['Candidate_descr'].apply(embed_bert_cls)\n",
        "x_job = data['Jobs_descr'].apply(embed_bert_cls)"
      ],
      "metadata": {
        "id": "EMc7WY2h-ksc"
      },
      "execution_count": null,
      "outputs": []
    },
    {
      "cell_type": "code",
      "source": [
        "embedded_cat_cols = pd.concat([data['Region_Candidate_listed'],\n",
        "           data['Region_job_listed']], axis=1).apply(lambda x: list(map(int, x[0][1:-1].split(', '))) + list(map(int, x[1][1:-1].split(', '))), axis = 1)"
      ],
      "metadata": {
        "id": "wNWOvqUm_qU6"
      },
      "execution_count": null,
      "outputs": []
    },
    {
      "cell_type": "code",
      "source": [
        "embedded_text_cols = pd.DataFrame({'Candidate_embed':x_candidates.to_numpy(),\n",
        "                                  'Jobs_embed':x_job.to_numpy(),\n",
        "                                  }).apply(lambda x: list(np.concatenate((x[0], x[1]))), axis=1)"
      ],
      "metadata": {
        "id": "1amY2tAJBRRO"
      },
      "execution_count": null,
      "outputs": []
    },
    {
      "cell_type": "code",
      "source": [
        "embedded_all_cols = pd.DataFrame({'text':embedded_text_cols.to_numpy(),\n",
        "                                  'cat':embedded_cat_cols.to_numpy()\n",
        "                                  }).apply(lambda x: list(np.concatenate((x[0], x[1]))), axis=1)"
      ],
      "metadata": {
        "id": "ahAlEwDIFAsh"
      },
      "execution_count": null,
      "outputs": []
    },
    {
      "cell_type": "code",
      "source": [
        "x_data = list(embedded_all_cols.values)\n",
        "y_data = list(data['target'].values)\n",
        "\n",
        "x_train, x_val, y_train, y_val = train_test_split(x_data, y_data, test_size=0.1, random_state=42)"
      ],
      "metadata": {
        "id": "CywryZEHUnXn"
      },
      "execution_count": 106,
      "outputs": []
    },
    {
      "cell_type": "code",
      "source": [
        "def get_data_loader(x, y, batch_size=64):\n",
        "    tensor_x = torch.Tensor(x)\n",
        "    tensor_y = torch.Tensor(y)\n",
        "\n",
        "    dataset = TensorDataset(tensor_x,tensor_y) \n",
        "    return DataLoader(dataset, batch_size=batch_size) \n",
        "\n",
        "\n",
        "train_dataloader = get_data_loader(x_train, y_train, batch_size=batch_size)\n",
        "val_dataloader = get_data_loader(x_val, y_val, batch_size=batch_size)"
      ],
      "metadata": {
        "id": "aybKQhYw1fOX"
      },
      "execution_count": 107,
      "outputs": []
    },
    {
      "cell_type": "markdown",
      "source": [
        "### Build model"
      ],
      "metadata": {
        "id": "FQpJy_tRwMMN"
      }
    },
    {
      "cell_type": "code",
      "source": [
        "fully_model = FullyNet(input_dim, output_dim)\n",
        "\n",
        "if torch.cuda.is_available():\n",
        "    fully_model.cuda()\n",
        "\n",
        "\n",
        "# criterion = torch.nn.L1Loss()\n",
        "criterion = torch.nn.MSELoss()\n",
        "optimizer = torch.optim.SGD(fully_model.parameters(), lr=learningRate, momentum=0.9)\n",
        "# optimizer = torch.optim.Adam(fully_model.parameters(), lr=learningRate)"
      ],
      "metadata": {
        "id": "A55lBvBFvwDY"
      },
      "execution_count": 120,
      "outputs": []
    },
    {
      "cell_type": "code",
      "source": [
        "import wandb\n",
        "\n",
        "wandb_config = {\"epochs\": epochs, \n",
        "                \"batch_size\": batch_size, \n",
        "                \"learning_rate\": learningRate}\n",
        "\n",
        "wandb.init(project=\"Skolkovo-hack\",config = wandb_config)\n",
        "wandb.watch(fully_model)"
      ],
      "metadata": {
        "colab": {
          "base_uri": "https://localhost:8080/",
          "height": 373,
          "referenced_widgets": [
            "29b70ad41a0947248551413c74631d73",
            "6ca7dbf92ef74844b87577dd50f71ad8",
            "825b20d87060486d9c3522dd6e329e5e",
            "69ef42be0f1d4e769c8350a84695f91d",
            "0fea48da366b46acafcc4ea31c202200",
            "b44346435ea14d01a589eb174725ef89",
            "dc5464875cc94901874e30b3a6b4a714",
            "6af66928fb0b4304a87354ac9a8c4319"
          ]
        },
        "id": "EvWowB28v8pq",
        "outputId": "fe13b739-35fb-4317-d89e-921c25948a69"
      },
      "execution_count": 121,
      "outputs": [
        {
          "output_type": "display_data",
          "data": {
            "text/plain": [
              "<IPython.core.display.HTML object>"
            ],
            "text/html": [
              "Finishing last run (ID:110hfd4g) before initializing another..."
            ]
          },
          "metadata": {}
        },
        {
          "output_type": "display_data",
          "data": {
            "text/plain": [
              "<IPython.core.display.HTML object>"
            ],
            "text/html": [
              "Waiting for W&B process to finish... <strong style=\"color:green\">(success).</strong>"
            ]
          },
          "metadata": {}
        },
        {
          "output_type": "display_data",
          "data": {
            "text/plain": [
              "VBox(children=(Label(value='0.000 MB of 0.000 MB uploaded (0.000 MB deduped)\\r'), FloatProgress(value=1.0, max…"
            ],
            "application/vnd.jupyter.widget-view+json": {
              "version_major": 2,
              "version_minor": 0,
              "model_id": "29b70ad41a0947248551413c74631d73"
            }
          },
          "metadata": {}
        },
        {
          "output_type": "display_data",
          "data": {
            "text/plain": [
              "<IPython.core.display.HTML object>"
            ],
            "text/html": [
              "<style>\n",
              "    table.wandb td:nth-child(1) { padding: 0 10px; text-align: left ; width: auto;} td:nth-child(2) {text-align: left ; width: 100%}\n",
              "    .wandb-row { display: flex; flex-direction: row; flex-wrap: wrap; justify-content: flex-start; width: 100% }\n",
              "    .wandb-col { display: flex; flex-direction: column; flex-basis: 100%; flex: 1; padding: 10px; }\n",
              "    </style>\n",
              "<div class=\"wandb-row\"><div class=\"wandb-col\"><h3>Run history:</h3><br/><table class=\"wandb\"><tr><td>loss</td><td>█▆▄▄▄▃▃▃▃▃▃▃▃▃▃▃▃▃▂▂▂▂▂▂▂▂▂▂▂▁▁▁▁▁▁▁▁▁▁▁</td></tr><tr><td>mae</td><td>█▆▄▃▂▂▂▂▁▁▁▁▁▁▁▁▁▁▁▁▂▁▁▂▂▁▁▂▂▂▂▂▂▂▂▂▂▂▃▂</td></tr><tr><td>mse</td><td>█▄▃▂▁▁▁▁▁▁▁▁▁▁▁▁▁▁▁▁▂▁▂▂▂▂▂▂▂▂▂▃▂▂▃▃▃▃▄▃</td></tr><tr><td>r2</td><td>▁▅▆▇████████████████▇█▇▇▇▇▇▇▇▇▇▆▇▇▆▆▆▆▅▆</td></tr></table><br/></div><div class=\"wandb-col\"><h3>Run summary:</h3><br/><table class=\"wandb\"><tr><td>loss</td><td>42.05586</td></tr><tr><td>mae</td><td>0.2323</td></tr><tr><td>mse</td><td>0.09012</td></tr><tr><td>r2</td><td>-0.01622</td></tr></table><br/></div></div>"
            ]
          },
          "metadata": {}
        },
        {
          "output_type": "display_data",
          "data": {
            "text/plain": [
              "<IPython.core.display.HTML object>"
            ],
            "text/html": [
              "Synced <strong style=\"color:#cdcd00\">hopeful-blaze-42</strong>: <a href=\"https://wandb.ai/quprik/Skolkovo-hack/runs/110hfd4g\" target=\"_blank\">https://wandb.ai/quprik/Skolkovo-hack/runs/110hfd4g</a><br/>Synced 4 W&B file(s), 0 media file(s), 0 artifact file(s) and 0 other file(s)"
            ]
          },
          "metadata": {}
        },
        {
          "output_type": "display_data",
          "data": {
            "text/plain": [
              "<IPython.core.display.HTML object>"
            ],
            "text/html": [
              "Find logs at: <code>./wandb/run-20220925_062247-110hfd4g/logs</code>"
            ]
          },
          "metadata": {}
        },
        {
          "output_type": "display_data",
          "data": {
            "text/plain": [
              "<IPython.core.display.HTML object>"
            ],
            "text/html": [
              "Successfully finished last run (ID:110hfd4g). Initializing new run:<br/>"
            ]
          },
          "metadata": {}
        },
        {
          "output_type": "display_data",
          "data": {
            "text/plain": [
              "<IPython.core.display.HTML object>"
            ],
            "text/html": [
              "Tracking run with wandb version 0.13.3"
            ]
          },
          "metadata": {}
        },
        {
          "output_type": "display_data",
          "data": {
            "text/plain": [
              "<IPython.core.display.HTML object>"
            ],
            "text/html": [
              "Run data is saved locally in <code>/content/wandb/run-20220925_063006-3lckqb21</code>"
            ]
          },
          "metadata": {}
        },
        {
          "output_type": "display_data",
          "data": {
            "text/plain": [
              "<IPython.core.display.HTML object>"
            ],
            "text/html": [
              "Syncing run <strong><a href=\"https://wandb.ai/quprik/Skolkovo-hack/runs/3lckqb21\" target=\"_blank\">copper-firefly-43</a></strong> to <a href=\"https://wandb.ai/quprik/Skolkovo-hack\" target=\"_blank\">Weights & Biases</a> (<a href=\"https://wandb.me/run\" target=\"_blank\">docs</a>)<br/>"
            ]
          },
          "metadata": {}
        },
        {
          "output_type": "execute_result",
          "data": {
            "text/plain": [
              "[]"
            ]
          },
          "metadata": {},
          "execution_count": 121
        }
      ]
    },
    {
      "cell_type": "markdown",
      "source": [
        "### Metrics for validation"
      ],
      "metadata": {
        "id": "fge9tJMUwP8F"
      }
    },
    {
      "cell_type": "code",
      "source": [
        "from sklearn.metrics import mean_squared_error, r2_score, mean_absolute_error\n",
        "metric_funcs = [(\"mse\", mean_squared_error),\n",
        "                (\"mae\", mean_absolute_error),\n",
        "                (\"r2\", r2_score)]\n",
        "\n",
        "\n",
        "def validate(model, val_dataloader):\n",
        "    y_pred = []\n",
        "    y_true = []\n",
        "    metrics = {}\n",
        "    for x_val, y_val in val_dataloader:\n",
        "        out = model(x_val.cuda())\n",
        "        y_pred += [i for i in out.tolist()]\n",
        "        y_true += y_val.tolist()\n",
        "    for (name, mf) in metric_funcs:\n",
        "        metrics[name] = mf(y_true, y_pred)\n",
        "    return metrics"
      ],
      "metadata": {
        "id": "JDIoycoWe-1s"
      },
      "execution_count": null,
      "outputs": []
    },
    {
      "cell_type": "code",
      "source": [
        "validate(fully_model, val_dataloader)"
      ],
      "metadata": {
        "colab": {
          "base_uri": "https://localhost:8080/"
        },
        "id": "Z50K63itm_SF",
        "outputId": "a274b633-efce-4b00-c607-22d481c88a8e"
      },
      "execution_count": null,
      "outputs": [
        {
          "output_type": "execute_result",
          "data": {
            "text/plain": [
              "{'mse': 0.10702899989085203,\n",
              " 'mae': 0.28087368112537964,\n",
              " 'r2': -0.20694388141736075}"
            ]
          },
          "metadata": {},
          "execution_count": 90
        }
      ]
    },
    {
      "cell_type": "markdown",
      "source": [
        "### Train Loop"
      ],
      "metadata": {
        "id": "zOqh4z5pwTkV"
      }
    },
    {
      "cell_type": "code",
      "source": [
        "from tqdm.notebook import tqdm\n",
        "\n",
        "\n",
        "pbar = tqdm(total=epochs, position=0, leave=True)\n",
        "\n",
        "for epoch in range(epochs):\n",
        "    fully_model.train()\n",
        "    loss = 0\n",
        "    for inputs, lables in train_dataloader:\n",
        "        optimizer.zero_grad()\n",
        "\n",
        "        outputs = fully_model(inputs.cuda())\n",
        "\n",
        "        batch_loss = criterion(outputs.cuda(), lables.view(-1,1).cuda())\n",
        "        batch_loss.backward()\n",
        "\n",
        "        optimizer.step()\n",
        "\n",
        "        loss += inputs.size(0)*batch_loss.item()\n",
        "\n",
        "    fully_model.eval()\n",
        "    metrics = validate(fully_model, val_dataloader)\n",
        "    \n",
        "    metrics['loss'] = loss/len(train_dataloader)\n",
        "    wandb.log(metrics)\n",
        "    pbar.update(1)\n",
        "    pbar.set_description(\"Training {} epoch...Loss:{} MSE:{},  MAE:{}, R2:{}\".format(epoch+1, metrics['loss'], metrics[\"mse\"], metrics[\"mae\"], metrics[\"r2\"]))"
      ],
      "metadata": {
        "colab": {
          "base_uri": "https://localhost:8080/",
          "height": 49,
          "referenced_widgets": [
            "cb4295ab038f45fcbce407ea3348f956",
            "90cddd06513a42a1b50520060a75edcd",
            "9ab06d38c8604603b8306c15d7d9a901",
            "0b8eba394f8b46ad851190f7a1712195",
            "5cc4eee3dc484a3aa217a0cc2639a450",
            "b6eb9b92b4774918835e5667f6d3ca8d",
            "bb8bc4b7e7aa4d2eb183b14b84df00f5",
            "50a3977dbd774e638a8ff862cd7167a4",
            "996c5bb7de7e43b2ac0a9dd4a04ae118",
            "c27b6e18f904453d90b4191c69d8ed57",
            "ba1d197938bc4a3fa18fe8cf5ec4d912"
          ]
        },
        "id": "NqMtPx8pw6PJ",
        "outputId": "4d8bde47-fc74-4329-dd6a-3c30ea8b22b6"
      },
      "execution_count": 122,
      "outputs": [
        {
          "output_type": "display_data",
          "data": {
            "text/plain": [
              "  0%|          | 0/1000 [00:00<?, ?it/s]"
            ],
            "application/vnd.jupyter.widget-view+json": {
              "version_major": 2,
              "version_minor": 0,
              "model_id": "cb4295ab038f45fcbce407ea3348f956"
            }
          },
          "metadata": {}
        }
      ]
    },
    {
      "cell_type": "markdown",
      "source": [
        "### Save Model"
      ],
      "metadata": {
        "id": "1qUENAhJwWra"
      }
    },
    {
      "cell_type": "code",
      "source": [
        "def save_model(model, path):\n",
        "    torch.save(model.state_dict(), path)"
      ],
      "metadata": {
        "id": "WUbuItvslnev"
      },
      "execution_count": null,
      "outputs": []
    },
    {
      "cell_type": "code",
      "source": [
        "save_model(fully_model, '/content/fully_best_model_FINALY.pt')"
      ],
      "metadata": {
        "id": "Jzgh_CyExUnU"
      },
      "execution_count": null,
      "outputs": []
    },
    {
      "cell_type": "markdown",
      "source": [
        "### Trash"
      ],
      "metadata": {
        "id": "pm8mc90XweMH"
      }
    },
    {
      "cell_type": "code",
      "source": [
        "# def embed_bert_cls(text, bert_tokenizer, bert_model):\n",
        "#     t = bert_tokenizer(text, padding=True, truncation=True, return_tensors='pt')\n",
        "#     with torch.no_grad():\n",
        "#         model_output = bert_model(**{k: v.to(bert_model.device) for k, v in t.items()})\n",
        "#     embeddings = model_output.last_hidden_state[:, 0, :]\n",
        "#     embeddings = torch.nn.functional.normalize(embeddings)\n",
        "#     return embeddings[0].cpu().numpy()\n",
        "\n",
        "\n",
        "# class FullyNet(torch.nn.Module):\n",
        "#     def __init__(self, input_dim, out_dim=1):\n",
        "#         super(FullyNet, self).__init__()\n",
        "#         self.fc_1 = torch.nn.Linear(input_dim, 384)\n",
        "#         self.fc_2 = torch.nn.Linear(384, 256)\n",
        "#         self.fc_3 = torch.nn.Linear(256, 128)\n",
        "#         self.fc_4 = torch.nn.Linear(128, 64)\n",
        "#         self.fc_5 = torch.nn.Linear(64, 8)\n",
        "#         self.fc_6 = torch.nn.Linear(8, out_dim)\n",
        "\n",
        "\n",
        "#     def forward(self, x):\n",
        "#         x = self.fc_1(x)\n",
        "#         x = self.fc_2(x)\n",
        "#         x = self.fc_3(x)\n",
        "#         x = self.fc_4(x)\n",
        "#         x = self.fc_5(x)\n",
        "#         out = self.fc_6(x)\n",
        "#         return out\n",
        "\n",
        "\n",
        "class linearRegression(torch.nn.Module):\n",
        "    def __init__(self, inputSize, outputSize):\n",
        "        super(linearRegression, self).__init__()\n",
        "        self.input_size = inputSize\n",
        "        self.output_size = outputSize\n",
        "        self.linear = torch.nn.Linear(inputSize, outputSize)\n",
        "\n",
        "\n",
        "    def forward(self, x):\n",
        "        out = self.linear(x)\n",
        "        return out\n",
        "\n",
        "\n",
        "def make_predict(model, data):\n",
        "    model.eval()\n",
        "    return model(data).item()\n",
        "\n",
        "\n",
        "def df_to_embed_tensor(ser):\n",
        "    # x_candidates = embed_bert_cls(ser['Candidate_descr'], bert_tokenizer, bert_model)\n",
        "    # x_job = embed_bert_cls(ser['Jobs_descr'], bert_tokenizer, bert_model)\n",
        "    x_candidates = embed_bert_cls(ser['Candidate_descr'])\n",
        "    x_job = embed_bert_cls(ser['Jobs_descr'])\n",
        "\n",
        "    x = np.concatenate((x_candidates, x_job))\n",
        "    return torch.Tensor(x).view(1,-1)\n",
        "\n",
        "\n",
        "def inference(weights_path, data, ModelClass=FullyNet):\n",
        "    \"\"\"\n",
        "        In:\n",
        "            weights_path - path to model weights .pt\n",
        "            data - as Series\n",
        "            ModelClass - class of model (default FullyNet)\n",
        "    \"\"\"\n",
        "    input_dim = 312 * 2\n",
        "    out_dim = 1\n",
        "\n",
        "    embed = df_to_embed_tensor(data)\n",
        "\n",
        "    model = ModelClass(input_dim, out_dim)\n",
        "\n",
        "    model.load_state_dict(torch.load(weights_path, map_location=torch.device('cpu')))\n",
        "\n",
        "    return make_predict(model, embed)\n",
        "\n",
        "\n",
        "path = '/content/fully_best_model_FINALY.pt'\n",
        "df = data.loc[1,:]\n",
        "inference(path, df, FullyNet)"
      ],
      "metadata": {
        "colab": {
          "base_uri": "https://localhost:8080/"
        },
        "id": "TWiYF_ovjQru",
        "outputId": "74f5654f-b17c-4bde-a67e-5a28baa6547d"
      },
      "execution_count": null,
      "outputs": [
        {
          "output_type": "execute_result",
          "data": {
            "text/plain": [
              "0.22909753024578094"
            ]
          },
          "metadata": {},
          "execution_count": 17
        }
      ]
    },
    {
      "cell_type": "code",
      "source": [],
      "metadata": {
        "id": "vLd6mHwPa5U2"
      },
      "execution_count": null,
      "outputs": []
    }
  ]
}